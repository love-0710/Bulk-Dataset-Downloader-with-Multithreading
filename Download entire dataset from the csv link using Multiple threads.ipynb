{
 "cells": [
  {
   "cell_type": "markdown",
   "metadata": {},
   "source": [
    "**Download dataset**"
   ]
  },
  {
   "cell_type": "code",
   "execution_count": 1,
   "metadata": {},
   "outputs": [
    {
     "name": "stdout",
     "output_type": "stream",
     "text": [
      "Downloaded https://m.media-amazon.com/images/I/110EibNyclL.jpg to Test_Images\\110EibNyclL.jpg\n",
      "Downloaded https://m.media-amazon.com/images/I/11TU2clswzL.jpg to Test_Images\\11TU2clswzL.jpg\n",
      "Downloaded https://m.media-amazon.com/images/I/11TU2clswzL.jpg to Test_Images\\11TU2clswzL.jpg\n",
      "Downloaded https://m.media-amazon.com/images/I/11TU2clswzL.jpg to Test_Images\\11TU2clswzL.jpg\n",
      "Downloaded https://m.media-amazon.com/images/I/11gHj8dhhrL.jpg to Test_Images\\11gHj8dhhrL.jpg\n",
      "Downloaded https://m.media-amazon.com/images/I/11gHj8dhhrL.jpg to Test_Images\\11gHj8dhhrL.jpg\n",
      "Downloaded https://m.media-amazon.com/images/I/11gHj8dhhrL.jpg to Test_Images\\11gHj8dhhrL.jpg\n",
      "Downloaded https://m.media-amazon.com/images/I/11lshEUmCrL.jpg to Test_Images\\11lshEUmCrL.jpg\n",
      "Downloaded https://m.media-amazon.com/images/I/21+i52HRW4L.jpg to Test_Images\\21+i52HRW4L.jpg\n",
      "Downloaded https://m.media-amazon.com/images/I/21-LmSmehZL.jpg to Test_Images\\21-LmSmehZL.jpg\n",
      "Downloaded https://m.media-amazon.com/images/I/213oP6n7jtL.jpg to Test_Images\\213oP6n7jtL.jpg\n",
      "Downloaded https://m.media-amazon.com/images/I/213wY3gUsmL.jpg to Test_Images\\213wY3gUsmL.jpg\n",
      "Downloaded https://m.media-amazon.com/images/I/214CLs1oznL.jpg to Test_Images\\214CLs1oznL.jpg\n",
      "Downloaded https://m.media-amazon.com/images/I/214CLs1oznL.jpg to Test_Images\\214CLs1oznL.jpg\n",
      "Downloaded https://m.media-amazon.com/images/I/214CLs1oznL.jpg to Test_Images\\214CLs1oznL.jpg\n",
      "Downloaded https://m.media-amazon.com/images/I/216rjgJHAeL.jpg to Test_Images\\216rjgJHAeL.jpg\n",
      "Downloaded https://m.media-amazon.com/images/I/2174yonQBtL.jpg to Test_Images\\2174yonQBtL.jpg\n",
      "Downloaded https://m.media-amazon.com/images/I/218BCzgKxuL.jpg to Test_Images\\218BCzgKxuL.jpg\n",
      "Downloaded https://m.media-amazon.com/images/I/218BCzgKxuL.jpg to Test_Images\\218BCzgKxuL.jpg\n",
      "Downloaded https://m.media-amazon.com/images/I/218BCzgKxuL.jpg to Test_Images\\218BCzgKxuL.jpg\n",
      "Downloaded https://m.media-amazon.com/images/I/21BMc5GC4iL.jpg to Test_Images\\21BMc5GC4iL.jpg\n",
      "Downloaded https://m.media-amazon.com/images/I/21CxlWbim3L.jpg to Test_Images\\21CxlWbim3L.jpg\n",
      "Downloaded https://m.media-amazon.com/images/I/21DZ7BAZ6-L.jpg to Test_Images\\21DZ7BAZ6-L.jpg\n",
      "Downloaded https://m.media-amazon.com/images/I/21GLFXwC1mS.jpg to Test_Images\\21GLFXwC1mS.jpg\n",
      "Downloaded https://m.media-amazon.com/images/I/21GLFXwC1mS.jpg to Test_Images\\21GLFXwC1mS.jpg\n",
      "Downloaded https://m.media-amazon.com/images/I/21H+7R85YZL.jpg to Test_Images\\21H+7R85YZL.jpg\n",
      "Downloaded https://m.media-amazon.com/images/I/21H+7R85YZL.jpg to Test_Images\\21H+7R85YZL.jpg\n",
      "Downloaded https://m.media-amazon.com/images/I/21IGmiJi-PL.jpg to Test_Images\\21IGmiJi-PL.jpg\n",
      "Downloaded https://m.media-amazon.com/images/I/21Is45vdL0L.jpg to Test_Images\\21Is45vdL0L.jpg\n",
      "Downloaded https://m.media-amazon.com/images/I/21Raw7jSIML.jpg to Test_Images\\21Raw7jSIML.jpg\n",
      "Downloaded https://m.media-amazon.com/images/I/21Vc5ixqKpS.jpg to Test_Images\\21Vc5ixqKpS.jpg\n",
      "Downloaded https://m.media-amazon.com/images/I/21W7FvftSCL.jpg to Test_Images\\21W7FvftSCL.jpg\n",
      "Downloaded https://m.media-amazon.com/images/I/21aD6ktvwxS.jpg to Test_Images\\21aD6ktvwxS.jpg\n",
      "Downloaded https://m.media-amazon.com/images/I/21aD6ktvwxS.jpg to Test_Images\\21aD6ktvwxS.jpg\n",
      "Downloaded https://m.media-amazon.com/images/I/21aD6ktvwxS.jpg to Test_Images\\21aD6ktvwxS.jpg\n",
      "Downloaded https://m.media-amazon.com/images/I/21bfrFeArAL.jpg to Test_Images\\21bfrFeArAL.jpg\n",
      "Downloaded https://m.media-amazon.com/images/I/21bwWoCpGJL.jpg to Test_Images\\21bwWoCpGJL.jpg\n",
      "Downloaded https://m.media-amazon.com/images/I/21cLufe8Y5L.jpg to Test_Images\\21cLufe8Y5L.jpg\n"
     ]
    }
   ],
   "source": [
    "import pandas as pd\n",
    "import requests\n",
    "from pathlib import Path\n",
    "from urllib.parse import urlparse\n",
    "\n",
    "def download_image(url, save_path):\n",
    "    try:\n",
    "        response = requests.get(url, stream=True) \n",
    "        response.raise_for_status()\n",
    "        with open(save_path, 'wb') as file:\n",
    "            for chunk in response.iter_content(chunk_size=8192):\n",
    "                file.write(chunk)\n",
    "        print(f\"Downloaded {url} to {save_path}\")\n",
    "    except requests.RequestException as e:\n",
    "        print(f\"Error downloading {url}: {e}\")\n",
    "\n",
    "# Load the CSV file\n",
    "def extract_images_from_csv(csv_file_path, image_column_name, output_folder):\n",
    "    # Read CSV file into DataFrame\n",
    "    df = pd.read_csv(csv_file_path)\n",
    "\n",
    "    # Ensure output directory exists\n",
    "    Path(output_folder).mkdir(parents=True, exist_ok=True)\n",
    "\n",
    "    # Loop through each URL in the specified column\n",
    "    for index, row in df.iterrows():\n",
    "        image_url = row[image_column_name]\n",
    "        if pd.notna(image_url):\n",
    "            # Generate a valid file name from URL\n",
    "            filename = urlparse(image_url).path.split('/')[-1]\n",
    "            save_path = Path(output_folder) / filename\n",
    "            # Download and save the image\n",
    "            download_image(image_url, save_path)\n",
    "\n",
    "# Example usage\n",
    "if __name__ == \"__main__\":\n",
    "    csv_file_path = 'dataset/test.csv'\n",
    "    image_column_name = 'image_link'\n",
    "    output_folder = 'Test_Images'\n",
    "    extract_images_from_csv(csv_file_path, image_column_name, output_folder)\n"
   ]
  }
 ],
 "metadata": {
  "kernelspec": {
   "display_name": "Python 3",
   "language": "python",
   "name": "python3"
  },
  "language_info": {
   "codemirror_mode": {
    "name": "ipython",
    "version": 3
   },
   "file_extension": ".py",
   "mimetype": "text/x-python",
   "name": "python",
   "nbconvert_exporter": "python",
   "pygments_lexer": "ipython3",
   "version": "3.12.5"
  }
 },
 "nbformat": 4,
 "nbformat_minor": 2
}
